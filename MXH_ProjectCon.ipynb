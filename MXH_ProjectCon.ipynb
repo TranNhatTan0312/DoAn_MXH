{
 "cells": [
  {
   "cell_type": "code",
   "execution_count": 2,
   "id": "462fb511",
   "metadata": {},
   "outputs": [
    {
     "name": "stdout",
     "output_type": "stream",
     "text": [
      "Requirement already satisfied: networkx in c:\\users\\84385\\appdata\\local\\programs\\python\\python310\\lib\\site-packages (2.8.8)\n"
     ]
    }
   ],
   "source": [
    "!pip install networkx"
   ]
  },
  {
   "cell_type": "code",
   "execution_count": 3,
   "id": "8ec6b25f",
   "metadata": {},
   "outputs": [],
   "source": [
    "# importing pandas, numpy\n",
    "import pandas as pd\n",
    "import numpy as np \n",
    "# Importing modules\n",
    "from pathlib import Path\n",
    "import networkx as nx"
   ]
  },
  {
   "cell_type": "code",
   "execution_count": 5,
   "id": "cc54825e",
   "metadata": {},
   "outputs": [
    {
     "data": {
      "text/html": [
       "<div>\n",
       "<style scoped>\n",
       "    .dataframe tbody tr th:only-of-type {\n",
       "        vertical-align: middle;\n",
       "    }\n",
       "\n",
       "    .dataframe tbody tr th {\n",
       "        vertical-align: top;\n",
       "    }\n",
       "\n",
       "    .dataframe thead th {\n",
       "        text-align: right;\n",
       "    }\n",
       "</style>\n",
       "<table border=\"1\" class=\"dataframe\">\n",
       "  <thead>\n",
       "    <tr style=\"text-align: right;\">\n",
       "      <th></th>\n",
       "      <th>A</th>\n",
       "      <th>B</th>\n",
       "      <th>C</th>\n",
       "      <th>D</th>\n",
       "      <th>E</th>\n",
       "      <th>F</th>\n",
       "      <th>G</th>\n",
       "      <th>H</th>\n",
       "      <th>I</th>\n",
       "      <th>J</th>\n",
       "    </tr>\n",
       "  </thead>\n",
       "  <tbody>\n",
       "    <tr>\n",
       "      <th>A</th>\n",
       "      <td>0</td>\n",
       "      <td>1</td>\n",
       "      <td>4</td>\n",
       "      <td>2</td>\n",
       "      <td>4</td>\n",
       "      <td>1</td>\n",
       "      <td>5</td>\n",
       "      <td>2</td>\n",
       "      <td>4</td>\n",
       "      <td>3</td>\n",
       "    </tr>\n",
       "    <tr>\n",
       "      <th>B</th>\n",
       "      <td>1</td>\n",
       "      <td>0</td>\n",
       "      <td>1</td>\n",
       "      <td>0</td>\n",
       "      <td>0</td>\n",
       "      <td>0</td>\n",
       "      <td>0</td>\n",
       "      <td>0</td>\n",
       "      <td>1</td>\n",
       "      <td>1</td>\n",
       "    </tr>\n",
       "    <tr>\n",
       "      <th>C</th>\n",
       "      <td>4</td>\n",
       "      <td>1</td>\n",
       "      <td>0</td>\n",
       "      <td>1</td>\n",
       "      <td>3</td>\n",
       "      <td>0</td>\n",
       "      <td>5</td>\n",
       "      <td>3</td>\n",
       "      <td>4</td>\n",
       "      <td>4</td>\n",
       "    </tr>\n",
       "    <tr>\n",
       "      <th>D</th>\n",
       "      <td>2</td>\n",
       "      <td>0</td>\n",
       "      <td>1</td>\n",
       "      <td>0</td>\n",
       "      <td>1</td>\n",
       "      <td>0</td>\n",
       "      <td>2</td>\n",
       "      <td>1</td>\n",
       "      <td>1</td>\n",
       "      <td>1</td>\n",
       "    </tr>\n",
       "    <tr>\n",
       "      <th>E</th>\n",
       "      <td>4</td>\n",
       "      <td>0</td>\n",
       "      <td>3</td>\n",
       "      <td>1</td>\n",
       "      <td>0</td>\n",
       "      <td>0</td>\n",
       "      <td>3</td>\n",
       "      <td>2</td>\n",
       "      <td>3</td>\n",
       "      <td>2</td>\n",
       "    </tr>\n",
       "    <tr>\n",
       "      <th>F</th>\n",
       "      <td>1</td>\n",
       "      <td>0</td>\n",
       "      <td>0</td>\n",
       "      <td>0</td>\n",
       "      <td>0</td>\n",
       "      <td>0</td>\n",
       "      <td>1</td>\n",
       "      <td>0</td>\n",
       "      <td>0</td>\n",
       "      <td>0</td>\n",
       "    </tr>\n",
       "    <tr>\n",
       "      <th>G</th>\n",
       "      <td>5</td>\n",
       "      <td>0</td>\n",
       "      <td>5</td>\n",
       "      <td>2</td>\n",
       "      <td>3</td>\n",
       "      <td>1</td>\n",
       "      <td>0</td>\n",
       "      <td>3</td>\n",
       "      <td>3</td>\n",
       "      <td>3</td>\n",
       "    </tr>\n",
       "    <tr>\n",
       "      <th>H</th>\n",
       "      <td>2</td>\n",
       "      <td>0</td>\n",
       "      <td>3</td>\n",
       "      <td>1</td>\n",
       "      <td>2</td>\n",
       "      <td>0</td>\n",
       "      <td>3</td>\n",
       "      <td>0</td>\n",
       "      <td>3</td>\n",
       "      <td>3</td>\n",
       "    </tr>\n",
       "    <tr>\n",
       "      <th>I</th>\n",
       "      <td>4</td>\n",
       "      <td>1</td>\n",
       "      <td>4</td>\n",
       "      <td>1</td>\n",
       "      <td>3</td>\n",
       "      <td>0</td>\n",
       "      <td>3</td>\n",
       "      <td>3</td>\n",
       "      <td>0</td>\n",
       "      <td>4</td>\n",
       "    </tr>\n",
       "    <tr>\n",
       "      <th>J</th>\n",
       "      <td>3</td>\n",
       "      <td>1</td>\n",
       "      <td>4</td>\n",
       "      <td>1</td>\n",
       "      <td>2</td>\n",
       "      <td>0</td>\n",
       "      <td>3</td>\n",
       "      <td>3</td>\n",
       "      <td>4</td>\n",
       "      <td>0</td>\n",
       "    </tr>\n",
       "  </tbody>\n",
       "</table>\n",
       "</div>"
      ],
      "text/plain": [
       "   A  B  C  D  E  F  G  H  I  J\n",
       "A  0  1  4  2  4  1  5  2  4  3\n",
       "B  1  0  1  0  0  0  0  0  1  1\n",
       "C  4  1  0  1  3  0  5  3  4  4\n",
       "D  2  0  1  0  1  0  2  1  1  1\n",
       "E  4  0  3  1  0  0  3  2  3  2\n",
       "F  1  0  0  0  0  0  1  0  0  0\n",
       "G  5  0  5  2  3  1  0  3  3  3\n",
       "H  2  0  3  1  2  0  3  0  3  3\n",
       "I  4  1  4  1  3  0  3  3  0  4\n",
       "J  3  1  4  1  2  0  3  3  4  0"
      ]
     },
     "execution_count": 5,
     "metadata": {},
     "output_type": "execute_result"
    }
   ],
   "source": [
    "df = pd.read_csv('DoThiNho.csv',index_col='Unnamed: 0')\n",
    "df"
   ]
  },
  {
   "cell_type": "code",
   "execution_count": 6,
   "id": "efa03b2d",
   "metadata": {},
   "outputs": [],
   "source": [
    "G = nx.from_pandas_adjacency(df)"
   ]
  },
  {
   "cell_type": "code",
   "execution_count": 7,
   "id": "66289a0f",
   "metadata": {},
   "outputs": [
    {
     "data": {
      "text/plain": [
       "DegreeView({'A': 26, 'B': 4, 'C': 25, 'D': 9, 'E': 18, 'F': 2, 'G': 25, 'H': 17, 'I': 23, 'J': 21})"
      ]
     },
     "execution_count": 7,
     "metadata": {},
     "output_type": "execute_result"
    }
   ],
   "source": [
    "degree = nx.degree(G, weight='weight')\n",
    "degree"
   ]
  },
  {
   "cell_type": "code",
   "execution_count": 8,
   "id": "aab7919d",
   "metadata": {},
   "outputs": [
    {
     "data": {
      "text/plain": [
       "{'A': 1.0,\n",
       " 'B': 0.4444444444444444,\n",
       " 'C': 0.8888888888888888,\n",
       " 'D': 0.7777777777777777,\n",
       " 'E': 0.7777777777777777,\n",
       " 'F': 0.2222222222222222,\n",
       " 'G': 0.8888888888888888,\n",
       " 'H': 0.7777777777777777,\n",
       " 'I': 0.8888888888888888,\n",
       " 'J': 0.8888888888888888}"
      ]
     },
     "execution_count": 8,
     "metadata": {},
     "output_type": "execute_result"
    }
   ],
   "source": [
    "degree_cen = nx.degree_centrality(G)\n",
    "degree_cen"
   ]
  },
  {
   "cell_type": "code",
   "execution_count": 9,
   "id": "f39a870f",
   "metadata": {},
   "outputs": [
    {
     "data": {
      "text/plain": [
       "{'A': 0.5294117647058824,\n",
       " 'B': 0.5294117647058824,\n",
       " 'C': 0.5,\n",
       " 'D': 0.6428571428571429,\n",
       " 'E': 0.4090909090909091,\n",
       " 'F': 0.391304347826087,\n",
       " 'G': 0.391304347826087,\n",
       " 'H': 0.45,\n",
       " 'I': 0.5,\n",
       " 'J': 0.5}"
      ]
     },
     "execution_count": 9,
     "metadata": {},
     "output_type": "execute_result"
    }
   ],
   "source": [
    "####\n",
    "closeness = nx.closeness_centrality(G, distance='weight', wf_improved=True)\n",
    "closeness"
   ]
  },
  {
   "cell_type": "code",
   "execution_count": 10,
   "id": "e98b4268",
   "metadata": {},
   "outputs": [],
   "source": [
    "shortest_paths = dict(nx.all_pairs_shortest_path(G))"
   ]
  },
  {
   "cell_type": "code",
   "execution_count": 15,
   "id": "c0f5703e",
   "metadata": {},
   "outputs": [
    {
     "data": {
      "text/plain": [
       "[['A', 'B', []],\n",
       " ['A', 'C', [], ['B'], ['E'], ['F'], ['G']],\n",
       " ['A', 'D', [], ['B'], ['E'], ['F'], ['G']],\n",
       " ['A', 'E', []],\n",
       " ['A', 'F', []],\n",
       " ['A', 'G', []],\n",
       " ['A', 'H', ['E'], ['F']],\n",
       " ['A', 'I', ['E'], ['F']],\n",
       " ['A', 'J', ['E'], ['F']],\n",
       " ['B', 'C', []],\n",
       " ['B', 'D', []],\n",
       " ['B', 'E', []],\n",
       " ['B', 'F', []],\n",
       " ['B', 'G', []],\n",
       " ['B', 'H', ['E'], ['F']],\n",
       " ['B', 'I', ['E'], ['F']],\n",
       " ['B', 'J', ['E'], ['F']],\n",
       " ['C', 'D', [], ['B'], ['E'], ['F'], ['G']],\n",
       " ['C', 'E', []],\n",
       " ['C', 'F', []],\n",
       " ['C', 'G', []],\n",
       " ['C', 'H', ['E'], ['F']],\n",
       " ['C', 'I', ['E'], ['F']],\n",
       " ['C', 'J', ['E'], ['F']],\n",
       " ['D', 'E', []],\n",
       " ['D', 'F', []],\n",
       " ['D', 'G', []],\n",
       " ['D', 'H', ['E'], ['F']],\n",
       " ['D', 'I', ['E'], ['F']],\n",
       " ['D', 'J', ['E'], ['F']],\n",
       " ['E', 'F', [], ['A'], ['B'], ['C'], ['D'], ['G'], ['H'], ['I'], ['J']],\n",
       " ['E', 'G', []],\n",
       " ['E', 'H', []],\n",
       " ['E', 'I', []],\n",
       " ['E', 'J', []],\n",
       " ['F', 'G', []],\n",
       " ['F', 'H', []],\n",
       " ['F', 'I', []],\n",
       " ['F', 'J', []],\n",
       " ['G', 'H', ['E'], ['F']],\n",
       " ['G', 'I', ['E'], ['F']],\n",
       " ['G', 'J', ['E'], ['F']],\n",
       " ['H', 'I', ['E'], ['F'], ['J']],\n",
       " ['H', 'J', []],\n",
       " ['I', 'J', []]]"
      ]
     },
     "execution_count": 15,
     "metadata": {},
     "output_type": "execute_result"
    }
   ],
   "source": [
    "nodes = ['A', 'B', 'C', 'D', 'E', 'F', 'G', 'H', 'I', 'J']\n",
    "\n",
    "edges = []\n",
    "\n",
    "for i in range(10):\n",
    "    for j in range(i+1,10):                \n",
    "        shortest_paths = nx.all_shortest_paths(G, nodes[i], nodes[j], weight='weight')\n",
    "        edge = [nodes[i], nodes[j]]\n",
    "        for path in shortest_paths:\n",
    "            edge.append(path[1:-1])\n",
    "        edges.append(edge)\n",
    "\n",
    "edges"
   ]
  },
  {
   "cell_type": "code",
   "execution_count": 11,
   "id": "0b59c16f",
   "metadata": {},
   "outputs": [
    {
     "data": {
      "text/plain": [
       "{'A': 7.083333333333333,\n",
       " 'B': 7.5,\n",
       " 'C': 0.8333333333333334,\n",
       " 'D': 13.666666666666666,\n",
       " 'E': 0.0,\n",
       " 'F': 2.0,\n",
       " 'G': 1.1666666666666665,\n",
       " 'H': 0.0,\n",
       " 'I': 0.8333333333333334,\n",
       " 'J': 1.0833333333333335}"
      ]
     },
     "execution_count": 11,
     "metadata": {},
     "output_type": "execute_result"
    }
   ],
   "source": [
    "betweenness = nx.betweenness_centrality(G, weight='weight', normalized=False)\n",
    "betweenness"
   ]
  },
  {
   "cell_type": "code",
   "execution_count": 22,
   "id": "afa88752",
   "metadata": {},
   "outputs": [
    {
     "data": {
      "text/plain": [
       "{('A', 'B'): 1.4000000000000001,\n",
       " ('A', 'C'): 0.2,\n",
       " ('A', 'D'): 0.2,\n",
       " ('A', 'E'): 3.011111111111111,\n",
       " ('A', 'F'): 3.011111111111111,\n",
       " ('A', 'G'): 1.4,\n",
       " ('B', 'C'): 1.4,\n",
       " ('B', 'D'): 1.4,\n",
       " ('B', 'E'): 2.611111111111111,\n",
       " ('B', 'F'): 2.611111111111111,\n",
       " ('B', 'G'): 1.0,\n",
       " ('C', 'D'): 0.2,\n",
       " ('C', 'E'): 3.011111111111111,\n",
       " ('C', 'F'): 3.011111111111111,\n",
       " ('C', 'G'): 1.4,\n",
       " ('D', 'E'): 3.011111111111111,\n",
       " ('D', 'F'): 3.011111111111111,\n",
       " ('D', 'G'): 1.4,\n",
       " ('E', 'F'): 0.1111111111111111,\n",
       " ('E', 'G'): 2.611111111111111,\n",
       " ('E', 'H'): 3.944444444444444,\n",
       " ('E', 'I'): 3.944444444444444,\n",
       " ('E', 'J'): 3.611111111111111,\n",
       " ('F', 'G'): 2.611111111111111,\n",
       " ('F', 'H'): 3.944444444444444,\n",
       " ('F', 'I'): 3.944444444444444,\n",
       " ('F', 'J'): 3.611111111111111,\n",
       " ('H', 'I'): 0.0,\n",
       " ('H', 'J'): 1.3333333333333333,\n",
       " ('I', 'J'): 1.3333333333333333}"
      ]
     },
     "execution_count": 22,
     "metadata": {},
     "output_type": "execute_result"
    }
   ],
   "source": [
    "edge_betweenness = nx.edge_betweenness_centrality(G, weight='weight', normalized=False)\n",
    "edge_betweenness"
   ]
  },
  {
   "cell_type": "code",
   "execution_count": 12,
   "id": "b365f55f",
   "metadata": {},
   "outputs": [
    {
     "data": {
      "text/plain": [
       "{'A': 0.15004394337069285,\n",
       " 'B': 0.03427981301531641,\n",
       " 'C': 0.13950325920328324,\n",
       " 'D': 0.0586496542213434,\n",
       " 'E': 0.10280107899546759,\n",
       " 'F': 0.02476615362152848,\n",
       " 'G': 0.1429685778117572,\n",
       " 'H': 0.09776512928384161,\n",
       " 'I': 0.12959623765848904,\n",
       " 'J': 0.11962615281828028}"
      ]
     },
     "execution_count": 12,
     "metadata": {},
     "output_type": "execute_result"
    }
   ],
   "source": [
    "pagerank = nx.pagerank(G, weight='weight', personalization={'A': 1, 'B': 1, 'C': 1,'D': 1, 'E': 1, 'F': 1, 'G': 1, 'H': 1, 'I': 1, 'J': 1},\n",
    "    max_iter=15, tol=1e-6)\n",
    "pagerank"
   ]
  },
  {
   "cell_type": "code",
   "execution_count": 13,
   "id": "26ce83b6",
   "metadata": {},
   "outputs": [],
   "source": [
    "def print_table(data, columns):\n",
    "  df = pd.DataFrame(data, columns=columns)\n",
    "  return df"
   ]
  },
  {
   "cell_type": "code",
   "execution_count": 14,
   "id": "a7345e52",
   "metadata": {},
   "outputs": [
    {
     "data": {
      "text/html": [
       "<div>\n",
       "<style scoped>\n",
       "    .dataframe tbody tr th:only-of-type {\n",
       "        vertical-align: middle;\n",
       "    }\n",
       "\n",
       "    .dataframe tbody tr th {\n",
       "        vertical-align: top;\n",
       "    }\n",
       "\n",
       "    .dataframe thead th {\n",
       "        text-align: right;\n",
       "    }\n",
       "</style>\n",
       "<table border=\"1\" class=\"dataframe\">\n",
       "  <thead>\n",
       "    <tr style=\"text-align: right;\">\n",
       "      <th></th>\n",
       "      <th>Brand</th>\n",
       "      <th>Pagerank</th>\n",
       "    </tr>\n",
       "  </thead>\n",
       "  <tbody>\n",
       "    <tr>\n",
       "      <th>0</th>\n",
       "      <td>A</td>\n",
       "      <td>0.150044</td>\n",
       "    </tr>\n",
       "    <tr>\n",
       "      <th>1</th>\n",
       "      <td>B</td>\n",
       "      <td>0.034280</td>\n",
       "    </tr>\n",
       "    <tr>\n",
       "      <th>2</th>\n",
       "      <td>C</td>\n",
       "      <td>0.139503</td>\n",
       "    </tr>\n",
       "    <tr>\n",
       "      <th>3</th>\n",
       "      <td>D</td>\n",
       "      <td>0.058650</td>\n",
       "    </tr>\n",
       "    <tr>\n",
       "      <th>4</th>\n",
       "      <td>E</td>\n",
       "      <td>0.102801</td>\n",
       "    </tr>\n",
       "    <tr>\n",
       "      <th>5</th>\n",
       "      <td>F</td>\n",
       "      <td>0.024766</td>\n",
       "    </tr>\n",
       "    <tr>\n",
       "      <th>6</th>\n",
       "      <td>G</td>\n",
       "      <td>0.142969</td>\n",
       "    </tr>\n",
       "    <tr>\n",
       "      <th>7</th>\n",
       "      <td>H</td>\n",
       "      <td>0.097765</td>\n",
       "    </tr>\n",
       "    <tr>\n",
       "      <th>8</th>\n",
       "      <td>I</td>\n",
       "      <td>0.129596</td>\n",
       "    </tr>\n",
       "    <tr>\n",
       "      <th>9</th>\n",
       "      <td>J</td>\n",
       "      <td>0.119626</td>\n",
       "    </tr>\n",
       "  </tbody>\n",
       "</table>\n",
       "</div>"
      ],
      "text/plain": [
       "  Brand  Pagerank\n",
       "0     A  0.150044\n",
       "1     B  0.034280\n",
       "2     C  0.139503\n",
       "3     D  0.058650\n",
       "4     E  0.102801\n",
       "5     F  0.024766\n",
       "6     G  0.142969\n",
       "7     H  0.097765\n",
       "8     I  0.129596\n",
       "9     J  0.119626"
      ]
     },
     "execution_count": 14,
     "metadata": {},
     "output_type": "execute_result"
    }
   ],
   "source": [
    "pagerank = nx.pagerank(G, tol=1e-6, alpha=0.85)\n",
    "sorted_pagerank = sorted(pagerank.items(), key=lambda x:x[1], reverse=True)\n",
    "pagerank_df = print_table(pagerank.items(), ['Brand', 'Pagerank'])\n",
    "pagerank_df"
   ]
  },
  {
   "cell_type": "code",
   "execution_count": null,
   "id": "9bafe79a",
   "metadata": {},
   "outputs": [],
   "source": []
  }
 ],
 "metadata": {
  "kernelspec": {
   "display_name": "Python 3 (ipykernel)",
   "language": "python",
   "name": "python3"
  },
  "language_info": {
   "codemirror_mode": {
    "name": "ipython",
    "version": 3
   },
   "file_extension": ".py",
   "mimetype": "text/x-python",
   "name": "python",
   "nbconvert_exporter": "python",
   "pygments_lexer": "ipython3",
   "version": "3.10.5"
  }
 },
 "nbformat": 4,
 "nbformat_minor": 5
}
