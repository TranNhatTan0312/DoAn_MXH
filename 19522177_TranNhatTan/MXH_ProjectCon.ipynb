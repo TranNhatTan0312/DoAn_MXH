{
 "cells": [
  {
   "cell_type": "code",
   "execution_count": 1,
   "id": "462fb511",
   "metadata": {},
   "outputs": [
    {
     "name": "stdout",
     "output_type": "stream",
     "text": [
      "Requirement already satisfied: networkx in c:\\users\\kakac\\appdata\\local\\programs\\python\\python310\\lib\\site-packages (2.8.8)\n"
     ]
    }
   ],
   "source": [
    "!pip install networkx"
   ]
  },
  {
   "cell_type": "code",
   "execution_count": 9,
   "id": "8ec6b25f",
   "metadata": {},
   "outputs": [],
   "source": [
    "# importing pandas, numpy\n",
    "import pandas as pd\n",
    "import numpy as np \n",
    "# Importing modules\n",
    "from pathlib import Path\n",
    "import networkx as nx"
   ]
  },
  {
   "cell_type": "code",
   "execution_count": 10,
   "id": "cc54825e",
   "metadata": {},
   "outputs": [
    {
     "data": {
      "text/html": [
       "<div>\n",
       "<style scoped>\n",
       "    .dataframe tbody tr th:only-of-type {\n",
       "        vertical-align: middle;\n",
       "    }\n",
       "\n",
       "    .dataframe tbody tr th {\n",
       "        vertical-align: top;\n",
       "    }\n",
       "\n",
       "    .dataframe thead th {\n",
       "        text-align: right;\n",
       "    }\n",
       "</style>\n",
       "<table border=\"1\" class=\"dataframe\">\n",
       "  <thead>\n",
       "    <tr style=\"text-align: right;\">\n",
       "      <th></th>\n",
       "      <th>C</th>\n",
       "      <th>H</th>\n",
       "      <th>I</th>\n",
       "      <th>B</th>\n",
       "      <th>E</th>\n",
       "      <th>F</th>\n",
       "      <th>A</th>\n",
       "      <th>J</th>\n",
       "      <th>D</th>\n",
       "      <th>K</th>\n",
       "    </tr>\n",
       "  </thead>\n",
       "  <tbody>\n",
       "    <tr>\n",
       "      <th>C</th>\n",
       "      <td>0</td>\n",
       "      <td>1</td>\n",
       "      <td>1</td>\n",
       "      <td>1</td>\n",
       "      <td>1</td>\n",
       "      <td>2</td>\n",
       "      <td>1</td>\n",
       "      <td>2</td>\n",
       "      <td>1</td>\n",
       "      <td>1</td>\n",
       "    </tr>\n",
       "    <tr>\n",
       "      <th>H</th>\n",
       "      <td>1</td>\n",
       "      <td>0</td>\n",
       "      <td>0</td>\n",
       "      <td>0</td>\n",
       "      <td>1</td>\n",
       "      <td>0</td>\n",
       "      <td>0</td>\n",
       "      <td>1</td>\n",
       "      <td>0</td>\n",
       "      <td>0</td>\n",
       "    </tr>\n",
       "    <tr>\n",
       "      <th>I</th>\n",
       "      <td>1</td>\n",
       "      <td>0</td>\n",
       "      <td>0</td>\n",
       "      <td>0</td>\n",
       "      <td>0</td>\n",
       "      <td>0</td>\n",
       "      <td>0</td>\n",
       "      <td>0</td>\n",
       "      <td>1</td>\n",
       "      <td>0</td>\n",
       "    </tr>\n",
       "    <tr>\n",
       "      <th>B</th>\n",
       "      <td>1</td>\n",
       "      <td>0</td>\n",
       "      <td>0</td>\n",
       "      <td>0</td>\n",
       "      <td>0</td>\n",
       "      <td>0</td>\n",
       "      <td>0</td>\n",
       "      <td>0</td>\n",
       "      <td>0</td>\n",
       "      <td>0</td>\n",
       "    </tr>\n",
       "    <tr>\n",
       "      <th>E</th>\n",
       "      <td>1</td>\n",
       "      <td>1</td>\n",
       "      <td>0</td>\n",
       "      <td>0</td>\n",
       "      <td>0</td>\n",
       "      <td>0</td>\n",
       "      <td>0</td>\n",
       "      <td>1</td>\n",
       "      <td>0</td>\n",
       "      <td>0</td>\n",
       "    </tr>\n",
       "    <tr>\n",
       "      <th>F</th>\n",
       "      <td>2</td>\n",
       "      <td>0</td>\n",
       "      <td>0</td>\n",
       "      <td>0</td>\n",
       "      <td>0</td>\n",
       "      <td>0</td>\n",
       "      <td>0</td>\n",
       "      <td>1</td>\n",
       "      <td>0</td>\n",
       "      <td>0</td>\n",
       "    </tr>\n",
       "    <tr>\n",
       "      <th>A</th>\n",
       "      <td>1</td>\n",
       "      <td>0</td>\n",
       "      <td>0</td>\n",
       "      <td>0</td>\n",
       "      <td>0</td>\n",
       "      <td>0</td>\n",
       "      <td>0</td>\n",
       "      <td>0</td>\n",
       "      <td>0</td>\n",
       "      <td>0</td>\n",
       "    </tr>\n",
       "    <tr>\n",
       "      <th>J</th>\n",
       "      <td>2</td>\n",
       "      <td>1</td>\n",
       "      <td>0</td>\n",
       "      <td>0</td>\n",
       "      <td>1</td>\n",
       "      <td>1</td>\n",
       "      <td>0</td>\n",
       "      <td>0</td>\n",
       "      <td>0</td>\n",
       "      <td>0</td>\n",
       "    </tr>\n",
       "    <tr>\n",
       "      <th>D</th>\n",
       "      <td>1</td>\n",
       "      <td>0</td>\n",
       "      <td>1</td>\n",
       "      <td>0</td>\n",
       "      <td>0</td>\n",
       "      <td>0</td>\n",
       "      <td>0</td>\n",
       "      <td>0</td>\n",
       "      <td>0</td>\n",
       "      <td>0</td>\n",
       "    </tr>\n",
       "    <tr>\n",
       "      <th>K</th>\n",
       "      <td>1</td>\n",
       "      <td>0</td>\n",
       "      <td>0</td>\n",
       "      <td>0</td>\n",
       "      <td>0</td>\n",
       "      <td>0</td>\n",
       "      <td>0</td>\n",
       "      <td>0</td>\n",
       "      <td>0</td>\n",
       "      <td>0</td>\n",
       "    </tr>\n",
       "  </tbody>\n",
       "</table>\n",
       "</div>"
      ],
      "text/plain": [
       "   C  H  I  B  E  F  A  J  D  K\n",
       "C  0  1  1  1  1  2  1  2  1  1\n",
       "H  1  0  0  0  1  0  0  1  0  0\n",
       "I  1  0  0  0  0  0  0  0  1  0\n",
       "B  1  0  0  0  0  0  0  0  0  0\n",
       "E  1  1  0  0  0  0  0  1  0  0\n",
       "F  2  0  0  0  0  0  0  1  0  0\n",
       "A  1  0  0  0  0  0  0  0  0  0\n",
       "J  2  1  0  0  1  1  0  0  0  0\n",
       "D  1  0  1  0  0  0  0  0  0  0\n",
       "K  1  0  0  0  0  0  0  0  0  0"
      ]
     },
     "execution_count": 10,
     "metadata": {},
     "output_type": "execute_result"
    }
   ],
   "source": [
    "df = pd.read_csv('Matrix.csv',index_col='Unnamed: 0')\n",
    "df"
   ]
  },
  {
   "cell_type": "code",
   "execution_count": 11,
   "id": "efa03b2d",
   "metadata": {},
   "outputs": [],
   "source": [
    "G = nx.from_pandas_adjacency(df)"
   ]
  },
  {
   "cell_type": "code",
   "execution_count": 12,
   "id": "66289a0f",
   "metadata": {},
   "outputs": [
    {
     "data": {
      "text/plain": [
       "DegreeView({'C': 11, 'H': 3, 'I': 2, 'B': 1, 'E': 3, 'F': 3, 'A': 1, 'J': 5, 'D': 2, 'K': 1})"
      ]
     },
     "execution_count": 12,
     "metadata": {},
     "output_type": "execute_result"
    }
   ],
   "source": [
    "degree = nx.degree(G, weight='weight')\n",
    "degree"
   ]
  },
  {
   "cell_type": "code",
   "execution_count": 13,
   "id": "aab7919d",
   "metadata": {},
   "outputs": [
    {
     "data": {
      "text/plain": [
       "{'C': 1.0,\n",
       " 'H': 0.3333333333333333,\n",
       " 'I': 0.2222222222222222,\n",
       " 'B': 0.1111111111111111,\n",
       " 'E': 0.3333333333333333,\n",
       " 'F': 0.2222222222222222,\n",
       " 'A': 0.1111111111111111,\n",
       " 'J': 0.4444444444444444,\n",
       " 'D': 0.2222222222222222,\n",
       " 'K': 0.1111111111111111}"
      ]
     },
     "execution_count": 13,
     "metadata": {},
     "output_type": "execute_result"
    }
   ],
   "source": [
    "degree_cen = nx.degree_centrality(G)\n",
    "degree_cen"
   ]
  },
  {
   "cell_type": "code",
   "execution_count": 14,
   "id": "f39a870f",
   "metadata": {},
   "outputs": [
    {
     "data": {
      "text/plain": [
       "{'C': 0.8181818181818182,\n",
       " 'H': 0.6,\n",
       " 'I': 0.5,\n",
       " 'B': 0.47368421052631576,\n",
       " 'E': 0.6,\n",
       " 'F': 0.4090909090909091,\n",
       " 'A': 0.47368421052631576,\n",
       " 'J': 0.45,\n",
       " 'D': 0.5,\n",
       " 'K': 0.47368421052631576}"
      ]
     },
     "execution_count": 14,
     "metadata": {},
     "output_type": "execute_result"
    }
   ],
   "source": [
    "####\n",
    "closeness = nx.closeness_centrality(G, distance='weight', wf_improved=True)\n",
    "closeness"
   ]
  },
  {
   "cell_type": "code",
   "execution_count": 15,
   "id": "e98b4268",
   "metadata": {},
   "outputs": [],
   "source": [
    "shortest_paths = dict(nx.all_pairs_shortest_path(G))"
   ]
  },
  {
   "cell_type": "code",
   "execution_count": 16,
   "id": "c0f5703e",
   "metadata": {},
   "outputs": [
    {
     "ename": "NetworkXNoPath",
     "evalue": "Target G cannot be reached from given sources",
     "output_type": "error",
     "traceback": [
      "\u001b[1;31m---------------------------------------------------------------------------\u001b[0m",
      "\u001b[1;31mNetworkXNoPath\u001b[0m                            Traceback (most recent call last)",
      "\u001b[1;32mc:\\Users\\kakac\\OneDrive\\Desktop\\DoAn_MXH\\MXH_ProjectCon.ipynb Cell 9\u001b[0m in \u001b[0;36m<cell line: 5>\u001b[1;34m()\u001b[0m\n\u001b[0;32m      <a href='vscode-notebook-cell:/c%3A/Users/kakac/OneDrive/Desktop/DoAn_MXH/MXH_ProjectCon.ipynb#X11sZmlsZQ%3D%3D?line=6'>7</a>\u001b[0m shortest_paths \u001b[39m=\u001b[39m nx\u001b[39m.\u001b[39mall_shortest_paths(G, nodes[i], nodes[j], weight\u001b[39m=\u001b[39m\u001b[39m'\u001b[39m\u001b[39mweight\u001b[39m\u001b[39m'\u001b[39m)\n\u001b[0;32m      <a href='vscode-notebook-cell:/c%3A/Users/kakac/OneDrive/Desktop/DoAn_MXH/MXH_ProjectCon.ipynb#X11sZmlsZQ%3D%3D?line=7'>8</a>\u001b[0m edge \u001b[39m=\u001b[39m [nodes[i], nodes[j]]\n\u001b[1;32m----> <a href='vscode-notebook-cell:/c%3A/Users/kakac/OneDrive/Desktop/DoAn_MXH/MXH_ProjectCon.ipynb#X11sZmlsZQ%3D%3D?line=8'>9</a>\u001b[0m \u001b[39mfor\u001b[39;00m path \u001b[39min\u001b[39;00m shortest_paths:\n\u001b[0;32m     <a href='vscode-notebook-cell:/c%3A/Users/kakac/OneDrive/Desktop/DoAn_MXH/MXH_ProjectCon.ipynb#X11sZmlsZQ%3D%3D?line=9'>10</a>\u001b[0m     edge\u001b[39m.\u001b[39mappend(path[\u001b[39m1\u001b[39m:\u001b[39m-\u001b[39m\u001b[39m1\u001b[39m])\n\u001b[0;32m     <a href='vscode-notebook-cell:/c%3A/Users/kakac/OneDrive/Desktop/DoAn_MXH/MXH_ProjectCon.ipynb#X11sZmlsZQ%3D%3D?line=10'>11</a>\u001b[0m edges\u001b[39m.\u001b[39mappend(edge)\n",
      "File \u001b[1;32mc:\\Users\\kakac\\AppData\\Local\\Programs\\Python\\Python310\\lib\\site-packages\\networkx\\algorithms\\shortest_paths\\generic.py:545\u001b[0m, in \u001b[0;36m_build_paths_from_predecessors\u001b[1;34m(sources, target, pred)\u001b[0m\n\u001b[0;32m    505\u001b[0m \u001b[39m\"\"\"Compute all simple paths to target, given the predecessors found in\u001b[39;00m\n\u001b[0;32m    506\u001b[0m \u001b[39mpred, terminating when any source in sources is found.\u001b[39;00m\n\u001b[0;32m    507\u001b[0m \n\u001b[1;32m   (...)\u001b[0m\n\u001b[0;32m    542\u001b[0m \u001b[39mbellman_ford_path\u001b[39;00m\n\u001b[0;32m    543\u001b[0m \u001b[39m\"\"\"\u001b[39;00m\n\u001b[0;32m    544\u001b[0m \u001b[39mif\u001b[39;00m target \u001b[39mnot\u001b[39;00m \u001b[39min\u001b[39;00m pred:\n\u001b[1;32m--> 545\u001b[0m     \u001b[39mraise\u001b[39;00m nx\u001b[39m.\u001b[39mNetworkXNoPath(\u001b[39mf\u001b[39m\u001b[39m\"\u001b[39m\u001b[39mTarget \u001b[39m\u001b[39m{\u001b[39;00mtarget\u001b[39m}\u001b[39;00m\u001b[39m cannot be reached from given sources\u001b[39m\u001b[39m\"\u001b[39m)\n\u001b[0;32m    547\u001b[0m seen \u001b[39m=\u001b[39m {target}\n\u001b[0;32m    548\u001b[0m stack \u001b[39m=\u001b[39m [[target, \u001b[39m0\u001b[39m]]\n",
      "\u001b[1;31mNetworkXNoPath\u001b[0m: Target G cannot be reached from given sources"
     ]
    }
   ],
   "source": [
    "nodes = ['A', 'B', 'C', 'D', 'E', 'F', 'G', 'H', 'I', 'J']\n",
    "\n",
    "edges = []\n",
    "\n",
    "for i in range(10):\n",
    "    for j in range(i+1,10):                \n",
    "        shortest_paths = nx.all_shortest_paths(G, nodes[i], nodes[j], weight='weight')\n",
    "        edge = [nodes[i], nodes[j]]\n",
    "        for path in shortest_paths:\n",
    "            edge.append(path[1:-1])\n",
    "        edges.append(edge)\n",
    "\n",
    "edges"
   ]
  },
  {
   "cell_type": "code",
   "execution_count": 17,
   "id": "0b59c16f",
   "metadata": {},
   "outputs": [
    {
     "data": {
      "text/plain": [
       "{'C': 29.0,\n",
       " 'H': 2.0,\n",
       " 'I': 0.0,\n",
       " 'B': 0.0,\n",
       " 'E': 2.0,\n",
       " 'F': 0.0,\n",
       " 'A': 0.0,\n",
       " 'J': 2.0,\n",
       " 'D': 0.0,\n",
       " 'K': 0.0}"
      ]
     },
     "execution_count": 17,
     "metadata": {},
     "output_type": "execute_result"
    }
   ],
   "source": [
    "betweenness = nx.betweenness_centrality(G, weight='weight', normalized=False)\n",
    "betweenness"
   ]
  },
  {
   "cell_type": "code",
   "execution_count": 18,
   "id": "afa88752",
   "metadata": {},
   "outputs": [
    {
     "data": {
      "text/plain": [
       "{('C', 'H'): 8.0,\n",
       " ('C', 'I'): 8.0,\n",
       " ('C', 'B'): 9.0,\n",
       " ('C', 'E'): 8.0,\n",
       " ('C', 'F'): 6.0,\n",
       " ('C', 'A'): 9.0,\n",
       " ('C', 'J'): 2.0,\n",
       " ('C', 'D'): 8.0,\n",
       " ('C', 'K'): 9.0,\n",
       " ('H', 'E'): 1.0,\n",
       " ('H', 'J'): 3.9999999999999996,\n",
       " ('I', 'D'): 1.0,\n",
       " ('E', 'J'): 3.9999999999999996,\n",
       " ('F', 'J'): 3.0}"
      ]
     },
     "execution_count": 18,
     "metadata": {},
     "output_type": "execute_result"
    }
   ],
   "source": [
    "edge_betweenness = nx.edge_betweenness_centrality(G, weight='weight', normalized=False)\n",
    "edge_betweenness"
   ]
  },
  {
   "cell_type": "code",
   "execution_count": 19,
   "id": "b365f55f",
   "metadata": {},
   "outputs": [
    {
     "ename": "PowerIterationFailedConvergence",
     "evalue": "(PowerIterationFailedConvergence(...), 'power iteration failed to converge within 15 iterations')",
     "output_type": "error",
     "traceback": [
      "\u001b[1;31m---------------------------------------------------------------------------\u001b[0m",
      "\u001b[1;31mPowerIterationFailedConvergence\u001b[0m           Traceback (most recent call last)",
      "\u001b[1;32mc:\\Users\\kakac\\OneDrive\\Desktop\\DoAn_MXH\\MXH_ProjectCon.ipynb Cell 12\u001b[0m in \u001b[0;36m<cell line: 1>\u001b[1;34m()\u001b[0m\n\u001b[1;32m----> <a href='vscode-notebook-cell:/c%3A/Users/kakac/OneDrive/Desktop/DoAn_MXH/MXH_ProjectCon.ipynb#X14sZmlsZQ%3D%3D?line=0'>1</a>\u001b[0m pagerank \u001b[39m=\u001b[39m nx\u001b[39m.\u001b[39;49mpagerank(G, weight\u001b[39m=\u001b[39;49m\u001b[39m'\u001b[39;49m\u001b[39mweight\u001b[39;49m\u001b[39m'\u001b[39;49m, personalization\u001b[39m=\u001b[39;49m{\u001b[39m'\u001b[39;49m\u001b[39mA\u001b[39;49m\u001b[39m'\u001b[39;49m: \u001b[39m1\u001b[39;49m, \u001b[39m'\u001b[39;49m\u001b[39mB\u001b[39;49m\u001b[39m'\u001b[39;49m: \u001b[39m1\u001b[39;49m, \u001b[39m'\u001b[39;49m\u001b[39mC\u001b[39;49m\u001b[39m'\u001b[39;49m: \u001b[39m1\u001b[39;49m,\u001b[39m'\u001b[39;49m\u001b[39mD\u001b[39;49m\u001b[39m'\u001b[39;49m: \u001b[39m1\u001b[39;49m, \u001b[39m'\u001b[39;49m\u001b[39mE\u001b[39;49m\u001b[39m'\u001b[39;49m: \u001b[39m1\u001b[39;49m, \u001b[39m'\u001b[39;49m\u001b[39mF\u001b[39;49m\u001b[39m'\u001b[39;49m: \u001b[39m1\u001b[39;49m, \u001b[39m'\u001b[39;49m\u001b[39mG\u001b[39;49m\u001b[39m'\u001b[39;49m: \u001b[39m1\u001b[39;49m, \u001b[39m'\u001b[39;49m\u001b[39mH\u001b[39;49m\u001b[39m'\u001b[39;49m: \u001b[39m1\u001b[39;49m, \u001b[39m'\u001b[39;49m\u001b[39mI\u001b[39;49m\u001b[39m'\u001b[39;49m: \u001b[39m1\u001b[39;49m, \u001b[39m'\u001b[39;49m\u001b[39mJ\u001b[39;49m\u001b[39m'\u001b[39;49m: \u001b[39m1\u001b[39;49m},\n\u001b[0;32m      <a href='vscode-notebook-cell:/c%3A/Users/kakac/OneDrive/Desktop/DoAn_MXH/MXH_ProjectCon.ipynb#X14sZmlsZQ%3D%3D?line=1'>2</a>\u001b[0m     max_iter\u001b[39m=\u001b[39;49m\u001b[39m15\u001b[39;49m, tol\u001b[39m=\u001b[39;49m\u001b[39m1e-6\u001b[39;49m)\n\u001b[0;32m      <a href='vscode-notebook-cell:/c%3A/Users/kakac/OneDrive/Desktop/DoAn_MXH/MXH_ProjectCon.ipynb#X14sZmlsZQ%3D%3D?line=2'>3</a>\u001b[0m pagerank\n",
      "File \u001b[1;32mc:\\Users\\kakac\\AppData\\Local\\Programs\\Python\\Python310\\lib\\site-packages\\networkx\\algorithms\\link_analysis\\pagerank_alg.py:108\u001b[0m, in \u001b[0;36mpagerank\u001b[1;34m(G, alpha, personalization, max_iter, tol, nstart, weight, dangling)\u001b[0m\n\u001b[0;32m      9\u001b[0m \u001b[39mdef\u001b[39;00m \u001b[39mpagerank\u001b[39m(\n\u001b[0;32m     10\u001b[0m     G,\n\u001b[0;32m     11\u001b[0m     alpha\u001b[39m=\u001b[39m\u001b[39m0.85\u001b[39m,\n\u001b[1;32m   (...)\u001b[0m\n\u001b[0;32m     17\u001b[0m     dangling\u001b[39m=\u001b[39m\u001b[39mNone\u001b[39;00m,\n\u001b[0;32m     18\u001b[0m ):\n\u001b[0;32m     19\u001b[0m     \u001b[39m\"\"\"Returns the PageRank of the nodes in the graph.\u001b[39;00m\n\u001b[0;32m     20\u001b[0m \n\u001b[0;32m     21\u001b[0m \u001b[39m    PageRank computes a ranking of the nodes in the graph G based on\u001b[39;00m\n\u001b[1;32m   (...)\u001b[0m\n\u001b[0;32m    106\u001b[0m \n\u001b[0;32m    107\u001b[0m \u001b[39m    \"\"\"\u001b[39;00m\n\u001b[1;32m--> 108\u001b[0m     \u001b[39mreturn\u001b[39;00m pagerank_scipy(\n\u001b[0;32m    109\u001b[0m         G, alpha, personalization, max_iter, tol, nstart, weight, dangling\n\u001b[0;32m    110\u001b[0m     )\n",
      "File \u001b[1;32mc:\\Users\\kakac\\AppData\\Local\\Programs\\Python\\Python310\\lib\\site-packages\\networkx\\algorithms\\link_analysis\\pagerank_alg.py:508\u001b[0m, in \u001b[0;36mpagerank_scipy\u001b[1;34m(G, alpha, personalization, max_iter, tol, nstart, weight, dangling)\u001b[0m\n\u001b[0;32m    506\u001b[0m     \u001b[39mif\u001b[39;00m err \u001b[39m<\u001b[39m N \u001b[39m*\u001b[39m tol:\n\u001b[0;32m    507\u001b[0m         \u001b[39mreturn\u001b[39;00m \u001b[39mdict\u001b[39m(\u001b[39mzip\u001b[39m(nodelist, \u001b[39mmap\u001b[39m(\u001b[39mfloat\u001b[39m, x)))\n\u001b[1;32m--> 508\u001b[0m \u001b[39mraise\u001b[39;00m nx\u001b[39m.\u001b[39mPowerIterationFailedConvergence(max_iter)\n",
      "\u001b[1;31mPowerIterationFailedConvergence\u001b[0m: (PowerIterationFailedConvergence(...), 'power iteration failed to converge within 15 iterations')"
     ]
    }
   ],
   "source": [
    "pagerank = nx.pagerank(G, weight='weight', personalization={'A': 1, 'B': 1, 'C': 1,'D': 1, 'E': 1, 'F': 1, 'G': 1, 'H': 1, 'I': 1, 'J': 1},\n",
    "    max_iter=15, tol=1e-6)\n",
    "pagerank"
   ]
  },
  {
   "cell_type": "code",
   "execution_count": 20,
   "id": "26ce83b6",
   "metadata": {},
   "outputs": [],
   "source": [
    "def print_table(data, columns):\n",
    "  df = pd.DataFrame(data, columns=columns)\n",
    "  return df"
   ]
  },
  {
   "cell_type": "code",
   "execution_count": 21,
   "id": "a7345e52",
   "metadata": {},
   "outputs": [
    {
     "data": {
      "text/html": [
       "<div>\n",
       "<style scoped>\n",
       "    .dataframe tbody tr th:only-of-type {\n",
       "        vertical-align: middle;\n",
       "    }\n",
       "\n",
       "    .dataframe tbody tr th {\n",
       "        vertical-align: top;\n",
       "    }\n",
       "\n",
       "    .dataframe thead th {\n",
       "        text-align: right;\n",
       "    }\n",
       "</style>\n",
       "<table border=\"1\" class=\"dataframe\">\n",
       "  <thead>\n",
       "    <tr style=\"text-align: right;\">\n",
       "      <th></th>\n",
       "      <th>Brand</th>\n",
       "      <th>Pagerank</th>\n",
       "    </tr>\n",
       "  </thead>\n",
       "  <tbody>\n",
       "    <tr>\n",
       "      <th>0</th>\n",
       "      <td>C</td>\n",
       "      <td>0.327404</td>\n",
       "    </tr>\n",
       "    <tr>\n",
       "      <th>1</th>\n",
       "      <td>H</td>\n",
       "      <td>0.089909</td>\n",
       "    </tr>\n",
       "    <tr>\n",
       "      <th>2</th>\n",
       "      <td>I</td>\n",
       "      <td>0.070086</td>\n",
       "    </tr>\n",
       "    <tr>\n",
       "      <th>3</th>\n",
       "      <td>B</td>\n",
       "      <td>0.040300</td>\n",
       "    </tr>\n",
       "    <tr>\n",
       "      <th>4</th>\n",
       "      <td>E</td>\n",
       "      <td>0.089909</td>\n",
       "    </tr>\n",
       "    <tr>\n",
       "      <th>5</th>\n",
       "      <td>F</td>\n",
       "      <td>0.089735</td>\n",
       "    </tr>\n",
       "    <tr>\n",
       "      <th>6</th>\n",
       "      <td>A</td>\n",
       "      <td>0.040300</td>\n",
       "    </tr>\n",
       "    <tr>\n",
       "      <th>7</th>\n",
       "      <td>J</td>\n",
       "      <td>0.141972</td>\n",
       "    </tr>\n",
       "    <tr>\n",
       "      <th>8</th>\n",
       "      <td>D</td>\n",
       "      <td>0.070086</td>\n",
       "    </tr>\n",
       "    <tr>\n",
       "      <th>9</th>\n",
       "      <td>K</td>\n",
       "      <td>0.040300</td>\n",
       "    </tr>\n",
       "  </tbody>\n",
       "</table>\n",
       "</div>"
      ],
      "text/plain": [
       "  Brand  Pagerank\n",
       "0     C  0.327404\n",
       "1     H  0.089909\n",
       "2     I  0.070086\n",
       "3     B  0.040300\n",
       "4     E  0.089909\n",
       "5     F  0.089735\n",
       "6     A  0.040300\n",
       "7     J  0.141972\n",
       "8     D  0.070086\n",
       "9     K  0.040300"
      ]
     },
     "execution_count": 21,
     "metadata": {},
     "output_type": "execute_result"
    }
   ],
   "source": [
    "pagerank = nx.pagerank(G, tol=1e-6, alpha=0.85)\n",
    "sorted_pagerank = sorted(pagerank.items(), key=lambda x:x[1], reverse=True)\n",
    "pagerank_df = print_table(pagerank.items(), ['Brand', 'Pagerank'])\n",
    "pagerank_df"
   ]
  },
  {
   "cell_type": "code",
   "execution_count": null,
   "id": "9bafe79a",
   "metadata": {},
   "outputs": [],
   "source": []
  }
 ],
 "metadata": {
  "kernelspec": {
   "display_name": "Python 3.10.2 64-bit",
   "language": "python",
   "name": "python3"
  },
  "language_info": {
   "codemirror_mode": {
    "name": "ipython",
    "version": 3
   },
   "file_extension": ".py",
   "mimetype": "text/x-python",
   "name": "python",
   "nbconvert_exporter": "python",
   "pygments_lexer": "ipython3",
   "version": "3.10.2 (tags/v3.10.2:a58ebcc, Jan 17 2022, 14:12:15) [MSC v.1929 64 bit (AMD64)]"
  },
  "vscode": {
   "interpreter": {
    "hash": "b2e952b4aa259fb690f99d6612021c94fd54c515d492a19859b82e8951910a33"
   }
  }
 },
 "nbformat": 4,
 "nbformat_minor": 5
}
